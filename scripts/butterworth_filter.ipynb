{
 "cells": [
  {
   "cell_type": "code",
   "execution_count": null,
   "metadata": {},
   "outputs": [],
   "source": [
    "import neurokit2 as nk\n",
    "import numpy as np\n",
    "import matplotlib.pyplot as plt\n",
    "\n",
    "%matplotlib notebook\n",
    "\n",
    "# Since it's not possible to move up beyond the current directory in notebooks\n",
    "# (security reasons I guess), please specify your own local path to the testdata\n",
    "# in the data folder.\n",
    "datapath = r\"your\\local\\path\\to\\NeuroKit\\data\\testsignal_rsp.txt\"\n",
    "signal = np.loadtxt(datapath)"
   ]
  },
  {
   "cell_type": "code",
   "execution_count": null,
   "metadata": {},
   "outputs": [],
   "source": [
    "lowpassed = nk.butter_filter(x=signal, filttype=\"lowpass\", sfreq=1000, highcut=3)\n",
    "highpassed = nk.butter_filter(x=signal, filttype=\"highpass\", sfreq=1000, lowcut=3)\n",
    "bandpassed = nk.butter_filter(x=signal, filttype=\"bandpass\", sfreq=1000, lowcut=0.1, highcut=0.3, order=1)\n",
    "bandstopped = nk.butter_filter(x=signal, filttype=\"bandstop\", sfreq=1000, lowcut=0.1, highcut=0.3, order=1)\n",
    "\n",
    "fig, (ax0, ax1, ax2, ax3, ax4) = plt.subplots(nrows=5, ncols=1, sharex=True, sharey=True)\n",
    "ax0.set_title(\"raw\")\n",
    "ax0.plot(signal)\n",
    "ax1.set_title(\"lowpassed\")\n",
    "ax1.plot(lowpassed)\n",
    "ax2.set_title(\"highpassed\")\n",
    "ax2.plot(highpassed)\n",
    "ax3.set_title(\"bandpassed\")\n",
    "ax3.plot(bandpassed)\n",
    "ax4.set_title(\"bandstopped\")\n",
    "ax4.plot(bandstopped)\n",
    "plt.show()"
   ]
  },
  {
   "cell_type": "code",
   "execution_count": null,
   "metadata": {},
   "outputs": [],
   "source": []
  }
 ],
 "metadata": {
  "kernelspec": {
   "display_name": "Python 3",
   "language": "python",
   "name": "python3"
  },
  "language_info": {
   "codemirror_mode": {
    "name": "ipython",
    "version": 3
   },
   "file_extension": ".py",
   "mimetype": "text/x-python",
   "name": "python",
   "nbconvert_exporter": "python",
   "pygments_lexer": "ipython3",
   "version": "3.7.3"
  }
 },
 "nbformat": 4,
 "nbformat_minor": 2
}
