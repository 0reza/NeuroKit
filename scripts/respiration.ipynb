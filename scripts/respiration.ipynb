{
 "cells": [
  {
   "cell_type": "code",
   "execution_count": null,
   "metadata": {},
   "outputs": [],
   "source": [
    "import numpy as np\n",
    "import os\n",
    "import neurokit2 as nk\n",
    "\n",
    "%matplotlib notebook\n",
    "\n",
    "# Since it's not possible to move up beyond the current directory in notebooks\n",
    "# (security reasons I guess), please specify your own local path to the testdata\n",
    "# in the data folder.\n",
    "datapath = r\"your\\local\\path\\to\\NeuroKit\\data\\testsignal_rsp.txt\"\n",
    "\n",
    "signal = np.loadtxt(datapath)"
   ]
  },
  {
   "cell_type": "code",
   "execution_count": null,
   "metadata": {},
   "outputs": [],
   "source": [
    "# The user creates an Rsp object that is instantiated with the signal and its sampling frequency.\n",
    "rsp = nk.Rsp(signal=signal, sfreq=1000)\n",
    "\n",
    "# The user can then call three methods of the Rsp object:\n",
    "\n",
    "# 1. plot_summary() gives an overview of all calculated statistics and the extrema in the signal\n",
    "# (in the case of breathing, the extrema are inhalation peaks and exhalation troughs). The\n",
    "# figure can look somewhat off in a notebook.\n",
    "fig = rsp.plot_summary()\n",
    "\n",
    "# 2. instantaneous_stats() returns a dictionary containing the statistics over time displayed in the plot above.\n",
    "# The statistics can be accessed with the keys \"period\", \"rate\", and \"amplitude\". They contain time series that \n",
    "# have the same length as the signal.\n",
    "inst_stats = rsp.instantaneous_stats()\n",
    "\n",
    "for key, value in inst_stats.items():\n",
    "    print(f\"{key} contains a time series with {value.shape[0]} elements\")\n",
    "\n",
    "# 3. summary_stats() returns a dictionary containing the mean of the statistics displayed in the plot above.\n",
    "# The summary statistics can be accessed with the keys \"mean_period\", \"mean_rate\", and \"mean_amplitude\"\n",
    "# The method could be extended to calculate more fancy statistics.\n",
    "summary_stats = rsp.summary_stats()\n",
    "\n",
    "for key, value in summary_stats.items():\n",
    "    print(f\"{key} = {value}\")"
   ]
  },
  {
   "cell_type": "code",
   "execution_count": null,
   "metadata": {},
   "outputs": [],
   "source": []
  }
 ],
 "metadata": {
  "kernelspec": {
   "display_name": "Python 3",
   "language": "python",
   "name": "python3"
  },
  "language_info": {
   "codemirror_mode": {
    "name": "ipython",
    "version": 3
   },
   "file_extension": ".py",
   "mimetype": "text/x-python",
   "name": "python",
   "nbconvert_exporter": "python",
   "pygments_lexer": "ipython3",
   "version": "3.7.3"
  }
 },
 "nbformat": 4,
 "nbformat_minor": 2
}
