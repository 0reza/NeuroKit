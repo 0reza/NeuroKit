{
 "cells": [
  {
   "cell_type": "code",
   "execution_count": 1,
   "metadata": {},
   "outputs": [
    {
     "name": "stderr",
     "output_type": "stream",
     "text": [
      "C:\\Users\\Clinical Brain Lab\\Desktop\\WPy-3710b\\python-3.7.1.amd64\\lib\\site-packages\\numba\\decorators.py:146: RuntimeWarning: Caching is not available when the 'parallel' target is in use. Caching is now being disabled to allow execution to continue.\n",
      "  warnings.warn(msg, RuntimeWarning)\n"
     ]
    }
   ],
   "source": [
    "import pandas as pd\n",
    "import numpy as np\n",
    "import matplotlib.pyplot as plt\n",
    "import scipy.signal\n",
    "\n",
    "\n",
    "import neurokit2 as nk"
   ]
  },
  {
   "cell_type": "code",
   "execution_count": 2,
   "metadata": {},
   "outputs": [],
   "source": [
    "def resample_by_interpolation(signal, input_fs, output_fs):\n",
    "    \"\"\"\n",
    "    Resample a signal by interpolation.\n",
    "\n",
    "    Parameters\n",
    "    ----------\n",
    "    signal :  numpy array\n",
    "        Array containing the signal.\n",
    "    input_fs : int, or float\n",
    "        The original sampling frequency (samples/second).\n",
    "    output_fs : int, or float\n",
    "        The target frequency (samples/second).\n",
    "    \n",
    "    Returns\n",
    "    -------\n",
    "    resampled_signal : numpy array\n",
    "        Array of the resampled signal values.\n",
    "    \n",
    "    Examples\n",
    "    --------\n",
    "    >>> import numpy as np\n",
    "    >>> import pandas as pd\n",
    "    >>> import neurokit2 as nk\n",
    "    >>>\n",
    "    >>> # Downsample\n",
    "    >>> x = np.linspace(0, 10, 256, endpoint=False)\n",
    "    >>> y = np.cos(-x**2/6.0)\n",
    "    >>> yre = resample_by_interpolation(y, 256, 20)\n",
    "    >>> xre = np.linspace(0, 10, len(yre), endpoint=False)\n",
    "\n",
    "    >>> plt.figure(figsize=(10, 6))\n",
    "    >>> plt.plot(x,y,'b', xre,yre,'or-')\n",
    "    >>> plt.show()\n",
    "\n",
    "    \"\"\"\n",
    "    # calculate new length of sample\n",
    "    if input_fs == output_fs:\n",
    "        return signal\n",
    "    new_length = int(len(signal)*output_fs/input_fs)\n",
    "    resampled_signal = np.interp(\n",
    "        np.linspace(0.0, 1.0, new_length, endpoint=False),  # where to interpolate\n",
    "        np.linspace(0.0, 1.0, len(signal), endpoint=False),  # known positions\n",
    "        signal,  # known data points\n",
    "    )\n",
    "    return resampled_signal"
   ]
  },
  {
   "cell_type": "code",
   "execution_count": 3,
   "metadata": {},
   "outputs": [],
   "source": [
    "def resample_by_FFT(signal, input_fs, output_fs):\n",
    "    \"\"\"\n",
    "    Resample a signal by FFT.\n",
    "    Parameters\n",
    "    ----------\n",
    "    signal : numpy array\n",
    "        Array containing the signal.\n",
    "    input_fs : int, or float\n",
    "        The original sampling frequency (samples/second).\n",
    "    output_fs : int, or float\n",
    "        The target frequency (samples/second).\n",
    "    Returns\n",
    "    -------\n",
    "    resampled_signal : numpy array\n",
    "        Array of the resampled signal values.\n",
    "    \"\"\"\n",
    "    if input_fs == output_fs:\n",
    "        return signal\n",
    "    new_length = int(len(signal)*output_fs/input_fs)\n",
    "    resampled_signal = scipy.signal.resample(signal, new_length)\n",
    "#    assert len(resampled_signal) == new_length\n",
    "    return resampled_signal"
   ]
  },
  {
   "cell_type": "code",
   "execution_count": null,
   "metadata": {},
   "outputs": [],
   "source": []
  }
 ],
 "metadata": {
  "kernelspec": {
   "display_name": "Python 3",
   "language": "python",
   "name": "python3"
  },
  "language_info": {
   "codemirror_mode": {
    "name": "ipython",
    "version": 3
   },
   "file_extension": ".py",
   "mimetype": "text/x-python",
   "name": "python",
   "nbconvert_exporter": "python",
   "pygments_lexer": "ipython3",
   "version": "3.7.1"
  }
 },
 "nbformat": 4,
 "nbformat_minor": 2
}
